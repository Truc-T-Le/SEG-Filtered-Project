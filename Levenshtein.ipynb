{
 "cells": [
  {
   "cell_type": "code",
   "execution_count": 788,
   "id": "5c57dd95",
   "metadata": {},
   "outputs": [],
   "source": [
    "import Levenshtein as lev\n",
    "from fuzzywuzzy import fuzz\n",
    "import requests as r\n",
    "from Bio import SeqIO\n",
    "from io import StringIO"
   ]
  },
  {
   "cell_type": "code",
   "execution_count": 840,
   "id": "bf535915",
   "metadata": {},
   "outputs": [],
   "source": [
    "cID = \"TIA1_HUMAN\"\n",
    "baseUrl=\"http://www.uniprot.org/uniprot/\"\n",
    "currentUrl=baseUrl+cID+\".fasta\"\n",
    "response = r.post(currentUrl)\n",
    "cData=''.join(response.text)\n",
    "Seq=StringIO(cData)\n",
    "pSeq=list(SeqIO.parse(Seq,'fasta'))"
   ]
  },
  {
   "cell_type": "code",
   "execution_count": 841,
   "id": "0d2d7aa8",
   "metadata": {},
   "outputs": [],
   "source": [
    "s = str(pSeq[0].seq)"
   ]
  },
  {
   "cell_type": "code",
   "execution_count": 842,
   "id": "8210c427",
   "metadata": {},
   "outputs": [
    {
     "data": {
      "text/plain": [
       "'NPVQQQNQIGYPQPYGQWGQWYGNAQQIGQYMPNGWQVPAYGMYGQAWNQQGFNQTQSSAPWMGPNYGVQPPQGQNGSMLPNQPSGYRVAGYETQ'"
      ]
     },
     "execution_count": 842,
     "metadata": {},
     "output_type": "execute_result"
    }
   ],
   "source": [
    "lit = s[292-1:386]\n",
    "lit"
   ]
  },
  {
   "cell_type": "code",
   "execution_count": 843,
   "id": "419811b8",
   "metadata": {},
   "outputs": [
    {
     "data": {
      "text/plain": [
       "'NPVQQQNQIGYPQPYGQWGQWYGNAQQIGQYMPNGWQVPAYGMYGQAWNQQGFNQTQSSAPWMGPNYGVQPPQGQNGSMLPNQPSGYRVAGY'"
      ]
     },
     "execution_count": 843,
     "metadata": {},
     "output_type": "execute_result"
    }
   ],
   "source": [
    "seg = s[292-1:383]\n",
    "seg"
   ]
  },
  {
   "cell_type": "code",
   "execution_count": 844,
   "id": "df4faeac",
   "metadata": {},
   "outputs": [
    {
     "data": {
      "text/plain": [
       "'NPVQQQNQIGYPQPYGQWGQWYGNAQQIGQYMPNGWQVPAYGMYGQAWNQQGFNQTQSSAPWMGPNYGVQPPQGQNGSMLPNQPSGYRVAGYETQ'"
      ]
     },
     "execution_count": 844,
     "metadata": {},
     "output_type": "execute_result"
    }
   ],
   "source": [
    "sf = s[292-1:386]\n",
    "sf"
   ]
  },
  {
   "cell_type": "code",
   "execution_count": 845,
   "id": "b8997a8b",
   "metadata": {},
   "outputs": [
    {
     "data": {
      "text/plain": [
       "'MGPNYGVQPPQGQNGSMLPNQPSGYRVAGYETQ'"
      ]
     },
     "execution_count": 845,
     "metadata": {},
     "output_type": "execute_result"
    }
   ],
   "source": [
    "mobi =s[354-1:386] \n",
    "mobi"
   ]
  },
  {
   "cell_type": "code",
   "execution_count": 846,
   "id": "b90e3986",
   "metadata": {
    "hide_input": false
   },
   "outputs": [
    {
     "name": "stdout",
     "output_type": "stream",
     "text": [
      "lit vs seg: 0.983957219251337\n",
      "lit vs sf: 1.0\n",
      "lit vs mobi: 0.515625\n",
      "seg vs sf: 0.983957219251337\n",
      "mobi vs sf: 0.515625\n",
      "0.984 1.0 0.516 0.984 0.516\n"
     ]
    }
   ],
   "source": [
    "#The Levenshtein Distance https://www.datacamp.com/community/tutorials/fuzzy-string-python\n",
    "# mobi vs sf\n",
    "\n",
    "# seg vs lit\n",
    "ratio4 = lev.ratio(lit.lower(),seg.lower())\n",
    "print(\"lit vs seg: {}\".format(ratio4))\n",
    "\n",
    "# lit vs sf\n",
    "ratio3 = lev.ratio(lit.lower(),sf.lower())\n",
    "print(\"lit vs sf: {}\".format(ratio3))\n",
    "\n",
    "# mobi vs lit\n",
    "ratio5 = lev.ratio(lit.lower(),mobi.lower())\n",
    "print(\"lit vs mobi: {}\".format(ratio5))\n",
    "\n",
    "# seg vs sf\n",
    "ratio2 = lev.ratio(seg.lower(),sf.lower())\n",
    "print(\"seg vs sf: {}\".format(ratio2))\n",
    "\n",
    "ratio1 = lev.ratio(mobi.lower(),sf.lower())\n",
    "print(\"mobi vs sf: {}\".format(ratio1))\n",
    "\n",
    "\n",
    "print(round(ratio4,3), round(ratio3,3), round(ratio5,3), round(ratio2,3), round(ratio1,3))\n",
    "\n"
   ]
  },
  {
   "cell_type": "code",
   "execution_count": 22,
   "id": "27b90f6f",
   "metadata": {},
   "outputs": [],
   "source": [
    "from Bio import pairwise2\n",
    "from Bio.pairwise2 import format_alignment"
   ]
  },
  {
   "cell_type": "code",
   "execution_count": 588,
   "id": "9fdd4a44",
   "metadata": {},
   "outputs": [
    {
     "name": "stdout",
     "output_type": "stream",
     "text": [
      "0.939 0.871 0.876 0.857 0.944\n"
     ]
    }
   ],
   "source": [
    "alignments = pairwise2.align.globalxx(lit.lower(),sf.lower() , penalize_extend_when_opening=True)\n",
    "sim1 = int(format_alignment(*alignments[0], full_sequences=True).split(\"=\")[1])\n",
    "str1 = len(lit)\n",
    "str2 = len(sf)\n",
    "a = (2* sim1)/(str1+str2)\n",
    "\n",
    "alignments = pairwise2.align.globalxx(lit.lower(),seg.lower() , penalize_extend_when_opening=True)\n",
    "sim2 = int(format_alignment(*alignments[0], full_sequences=True).split(\"=\")[1])\n",
    "str1 = len(lit)\n",
    "str2 = len(seg)\n",
    "b = (2* sim2)/(str1+str2)\n",
    "\n",
    "alignments = pairwise2.align.globalxx(lit.lower(),mobi.lower() , penalize_extend_when_opening=True)\n",
    "sim3 = int(format_alignment(*alignments[0], full_sequences=True).split(\"=\")[1])\n",
    "str1 = len(lit)\n",
    "str2 = len(mobi)\n",
    "c = (2* sim3)/(str1+str2)\n",
    "\n",
    "alignments = pairwise2.align.globalxx(seg.lower(),sf.lower() , penalize_extend_when_opening=True)\n",
    "sim4 = int(format_alignment(*alignments[0], full_sequences=True).split(\"=\")[1])\n",
    "str1 = len(seg)\n",
    "str2 = len(sf)\n",
    "d = (2* sim4)/(str1+str2)\n",
    "\n",
    "alignments = pairwise2.align.globalxx(mobi.lower(),sf.lower() , penalize_extend_when_opening=True)\n",
    "sim5 = int(format_alignment(*alignments[0], full_sequences=True).split(\"=\")[1])\n",
    "str1 = len(mobi)\n",
    "str2 = len(sf)\n",
    "e = (2* sim5)/(str1+str2)\n",
    "\n",
    "print(round(a,3), round(b,3), round(c,3), round(d,3), round(e,3))"
   ]
  },
  {
   "cell_type": "code",
   "execution_count": 583,
   "id": "ae76a389",
   "metadata": {},
   "outputs": [
    {
     "name": "stdout",
     "output_type": "stream",
     "text": [
      "mastdystysqaaaqqgysaytaqptqgyaqttqaygqqsygtygqptdvsytqaqttatygqtayatsygqpptgyttptapqaysqpvqgygtgaydtttatvtttqasyaaqsaygtqpaypaygqqpaataptrpqdgnkptetsqpqsstggynqpslgygqsnysypqvpgsypmqpvtappsypptsysstqptsydqssysqqntygqpssygqqssygqqssygqqpptsyppqtgsysqapsqysqqsssygqqssfrqdhpssmgvygqesggfsgpgenrsmsgpdnrgrgrggfdrggmsrggrgggrggmgsagerggfnkpggpmdegpdldl\n",
      "||||||||||||||||||||||||||||||||||||||||||||||||||||||||||||||||||||||||||||||||||||||||||||||||||||||||||||||||||||||||||||||||||||||||||||||||||||||||||||||||||||||||||||||||||||||||||||||||||||||||||||||||||||||||||||||||||||||||||||||||||||||||||||||||||||||||||||||||||||||||||||||||||||||||||||||||||||||||||||||||||||||||||            |     \n",
      "mastdystysqaaaqqgysaytaqptqgyaqttqaygqqsygtygqptdvsytqaqttatygqtayatsygqpptgyttptapqaysqpvqgygtgaydtttatvtttqasyaaqsaygtqpaypaygqqpaataptrpqdgnkptetsqpqsstggynqpslgygqsnysypqvpgsypmqpvtappsypptsysstqptsydqssysqqntygqpssygqqssygqqssygqqpptsyppqtgsysqapsqysqqsssygqqssfrqdhpssmgvygqesggfsgpgenrsmsgpdnrgrgrggfdrggmsrggrgggrggmgsager------------g-----\n",
      "  Score=331\n",
      "\n"
     ]
    }
   ],
   "source": [
    "alignments = pairwise2.align.globalxx(lit.lower(),sf.lower() , penalize_extend_when_opening=True)\n",
    "print(format_alignment(*alignments[0], full_sequences=True))\n"
   ]
  },
  {
   "cell_type": "code",
   "execution_count": 571,
   "id": "0ca4f9fd",
   "metadata": {},
   "outputs": [],
   "source": [
    "\n",
    "s = \"MASTDYSTYSQAAAQQGYSAYTAQPTQGYAQTTQAYGQQSYGTYGQPTDVSYTQAQTTATYGQTAYATSYGQPPTGYTTPTAPQAYSQPVQGYGTGAYDTTTATVTTTQASYAAQSAYGTQPAYPAYGQQPAATAPTRPQDGNKPTETSQPQSSTGGYNQPSLGYGQSNYSYPQVPGSYPMQPVTAPPSYPPTSYSSTQPTSYDQSSYSQQNTYGQPSSYGQQSSYGQQSSYGQQPPTSYPPQTGSYSQAPSQYSQQSSSYGQQSSFRQDHPSSMGVYGQESGGFSGPGENRSMSGPDNRGRGRGGFDRGGMSRGGRGGGRGGMGSAGERGGFNKPGGPMDEGPDLDLGPPVDPDEDSDNSAIYVQGLNDSVTLDDLADFFKQCGVVKMNKRTGQPMIHIYLDKETGKPKGDATVSYEDPPTAKAAVEWFDGKDFQGSKLKVSLARKKPPMNSMRGGLPPREGRGMPPPLRGGPGGPGGPGGPMGRMGGRGGDRGGFPPRGPRGSRGNPSGGGNVQHRAGDWQCPNPGCGNQNFAWRTECNQCKAPKPEGFLPPPFPPPGGDRGRGGPGGMRGGRGGLMDRGGPGGMFRGGRGGDRGGFRGGRGMDRGGFGGGRRGGPGGPPGPLMEQMGGRRGGRGGPGKMDKGEHRQERRDRPY\""
   ]
  },
  {
   "cell_type": "code",
   "execution_count": 585,
   "id": "756e885f",
   "metadata": {},
   "outputs": [
    {
     "data": {
      "text/plain": [
       "'KPEGFLPPPFPPPGGDRGRGGPGGMRGGRGGLMDRGGPGGMFRGGRGGDRGGFRGGRGMDRGGFGGGRRGGPGGPPGPLMEQMGGRRGGRGGPGKMDKGEHRQERRDRPY'"
      ]
     },
     "execution_count": 585,
     "metadata": {},
     "output_type": "execute_result"
    }
   ],
   "source": [
    "s[546:656]"
   ]
  },
  {
   "cell_type": "code",
   "execution_count": null,
   "id": "1b9c097b",
   "metadata": {},
   "outputs": [],
   "source": []
  }
 ],
 "metadata": {
  "kernelspec": {
   "display_name": "Python 3 (ipykernel)",
   "language": "python",
   "name": "python3"
  },
  "language_info": {
   "codemirror_mode": {
    "name": "ipython",
    "version": 3
   },
   "file_extension": ".py",
   "mimetype": "text/x-python",
   "name": "python",
   "nbconvert_exporter": "python",
   "pygments_lexer": "ipython3",
   "version": "3.9.13"
  },
  "latex_envs": {
   "LaTeX_envs_menu_present": true,
   "autoclose": false,
   "autocomplete": true,
   "bibliofile": "biblio.bib",
   "cite_by": "apalike",
   "current_citInitial": 1,
   "eqLabelWithNumbers": true,
   "eqNumInitial": 1,
   "hotkeys": {
    "equation": "Ctrl-E",
    "itemize": "Ctrl-I"
   },
   "labels_anchors": false,
   "latex_user_defs": false,
   "report_style_numbering": false,
   "user_envs_cfg": false
  },
  "toc": {
   "base_numbering": 1,
   "nav_menu": {},
   "number_sections": true,
   "sideBar": true,
   "skip_h1_title": true,
   "title_cell": "Table of Contents",
   "title_sidebar": "Contents",
   "toc_cell": false,
   "toc_position": {
    "height": "calc(100% - 180px)",
    "left": "10px",
    "top": "150px",
    "width": "165px"
   },
   "toc_section_display": true,
   "toc_window_display": false
  }
 },
 "nbformat": 4,
 "nbformat_minor": 5
}
